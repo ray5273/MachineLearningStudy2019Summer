{
 "cells": [
  {
   "cell_type": "code",
   "execution_count": 5,
   "metadata": {},
   "outputs": [
    {
     "name": "stdout",
     "output_type": "stream",
     "text": [
      "# of Training data :  824\n",
      "# of num_features :  9\n"
     ]
    },
    {
     "ename": "TypeError",
     "evalue": "must be real number, not NoneType",
     "output_type": "error",
     "traceback": [
      "\u001b[1;31m---------------------------------------------------------------------------\u001b[0m",
      "\u001b[1;31mTypeError\u001b[0m                                 Traceback (most recent call last)",
      "\u001b[1;32m<ipython-input-5-5a175cf858b9>\u001b[0m in \u001b[0;36m<module>\u001b[1;34m\u001b[0m\n\u001b[0;32m     40\u001b[0m \u001b[1;31m# TRAIN\u001b[0m\u001b[1;33m\u001b[0m\u001b[1;33m\u001b[0m\u001b[1;33m\u001b[0m\u001b[0m\n\u001b[0;32m     41\u001b[0m \u001b[0mloss\u001b[0m \u001b[1;33m=\u001b[0m \u001b[0mmodel\u001b[0m\u001b[1;33m.\u001b[0m\u001b[0mtrain\u001b[0m\u001b[1;33m(\u001b[0m\u001b[0mtrain_x\u001b[0m\u001b[1;33m,\u001b[0m \u001b[0mtrain_y\u001b[0m\u001b[1;33m,\u001b[0m \u001b[0mnum_epochs\u001b[0m\u001b[1;33m,\u001b[0m \u001b[0mbatch_size\u001b[0m\u001b[1;33m,\u001b[0m \u001b[0mlearning_rate\u001b[0m\u001b[1;33m,\u001b[0m \u001b[0moptim\u001b[0m\u001b[1;33m)\u001b[0m\u001b[1;33m\u001b[0m\u001b[1;33m\u001b[0m\u001b[0m\n\u001b[1;32m---> 42\u001b[1;33m \u001b[0mprint\u001b[0m\u001b[1;33m(\u001b[0m\u001b[1;34m'Training Loss at last epoch: %.2f'\u001b[0m \u001b[1;33m%\u001b[0m \u001b[0mloss\u001b[0m\u001b[1;33m)\u001b[0m\u001b[1;33m\u001b[0m\u001b[1;33m\u001b[0m\u001b[0m\n\u001b[0m\u001b[0;32m     43\u001b[0m \u001b[1;33m\u001b[0m\u001b[0m\n\u001b[0;32m     44\u001b[0m \u001b[1;31m# EVALUATION\u001b[0m\u001b[1;33m\u001b[0m\u001b[1;33m\u001b[0m\u001b[1;33m\u001b[0m\u001b[0m\n",
      "\u001b[1;31mTypeError\u001b[0m: must be real number, not NoneType"
     ]
    }
   ],
   "source": [
    "import numpy as np\n",
    "from utils import _initialize, optimizer\n",
    "\n",
    "np.random.seed(428)\n",
    "\n",
    "# ========================= EDIT HERE =========================\n",
    "# 1. Choose DATA : Concrete / Graduate\n",
    "# 2. Adjust Hyperparameters\n",
    "# 3. Choose Optimizer : SGD / Momentum / RMSProp\n",
    "\n",
    "# DATA\n",
    "DATA_NAME = 'Concrete'\n",
    "\n",
    "# HYPERPARAMETERS\n",
    "batch_size = 50\n",
    "num_epochs = 10\n",
    "learning_rate = 0.01\n",
    "epsilon = 0.001 #error 값\n",
    "gamma = 0.1\n",
    "\n",
    "# OPTIMIZER\n",
    "OPTIMIZER = 'SGD'\n",
    "# =============================================================\n",
    "\n",
    "assert DATA_NAME in ['Concrete', 'Graduate']\n",
    "assert OPTIMIZER in ['SGD', 'Momentum', 'RMSProp']\n",
    "\n",
    "# Load dataset, model and evaluation metric\n",
    "train_data, test_data, linear_regression, metric = _initialize(DATA_NAME)\n",
    "train_x, train_y = train_data\n",
    "\n",
    "\n",
    "num_data, num_features = train_x.shape\n",
    "print('# of Training data : ', num_data)\n",
    "print('# of num_features : ',num_features)\n",
    "#마지막 feature는 bias 를 위한 것 같음 (8 + 1)\n",
    "# Make model & optimizer\n",
    "model = linear_regression(num_features)\n",
    "optim = optimizer(OPTIMIZER, gamma=gamma, epsilon=epsilon)\n",
    "\n",
    "# TRAIN\n",
    "loss = model.train(train_x, train_y, num_epochs, batch_size, learning_rate, optim)\n",
    "print('Training Loss at last epoch: %.2f' % loss)\n",
    "\n",
    "# EVALUATION\n",
    "test_x, test_y = test_data\n",
    "pred = model.eval(test_x)\n",
    "\n",
    "RMSE = metric(pred, test_y)\n",
    "\n",
    "print(OPTIMIZER, ' RMSE on Test Data : %.2f' % RMSE)"
   ]
  },
  {
   "cell_type": "code",
   "execution_count": null,
   "metadata": {},
   "outputs": [],
   "source": []
  },
  {
   "cell_type": "code",
   "execution_count": null,
   "metadata": {},
   "outputs": [],
   "source": []
  }
 ],
 "metadata": {
  "kernelspec": {
   "display_name": "Python 3",
   "language": "python",
   "name": "python3"
  },
  "language_info": {
   "codemirror_mode": {
    "name": "ipython",
    "version": 3
   },
   "file_extension": ".py",
   "mimetype": "text/x-python",
   "name": "python",
   "nbconvert_exporter": "python",
   "pygments_lexer": "ipython3",
   "version": "3.7.3"
  }
 },
 "nbformat": 4,
 "nbformat_minor": 2
}
