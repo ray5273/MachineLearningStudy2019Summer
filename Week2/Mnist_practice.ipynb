{
 "cells": [
  {
   "cell_type": "code",
   "execution_count": 4,
   "metadata": {},
   "outputs": [
    {
     "name": "stdout",
     "output_type": "stream",
     "text": [
      "Extracting MNIST_data/train-images-idx3-ubyte.gz\n",
      "Extracting MNIST_data/train-labels-idx1-ubyte.gz\n",
      "Extracting MNIST_data/t10k-images-idx3-ubyte.gz\n",
      "Extracting MNIST_data/t10k-labels-idx1-ubyte.gz\n",
      "Epoch: 0001, Cost: 2.711754940\n",
      "Epoch: 0002, Cost: 1.096269267\n",
      "Epoch: 0003, Cost: 0.871770619\n",
      "Epoch: 0004, Cost: 0.760479780\n",
      "Epoch: 0005, Cost: nan\n",
      "Epoch: 0006, Cost: nan\n",
      "Epoch: 0007, Cost: nan\n",
      "Epoch: 0008, Cost: nan\n",
      "Epoch: 0009, Cost: nan\n",
      "Epoch: 0010, Cost: nan\n",
      "Epoch: 0011, Cost: nan\n",
      "Epoch: 0012, Cost: nan\n",
      "Epoch: 0013, Cost: nan\n",
      "Epoch: 0014, Cost: nan\n",
      "Epoch: 0015, Cost: nan\n",
      "Epoch: 0016, Cost: nan\n",
      "Epoch: 0017, Cost: nan\n",
      "Epoch: 0018, Cost: nan\n",
      "Epoch: 0019, Cost: nan\n",
      "Epoch: 0020, Cost: nan\n",
      "Epoch: 0021, Cost: nan\n",
      "Epoch: 0022, Cost: nan\n",
      "Epoch: 0023, Cost: nan\n",
      "Epoch: 0024, Cost: nan\n",
      "Epoch: 0025, Cost: nan\n",
      "Epoch: 0026, Cost: nan\n",
      "Epoch: 0027, Cost: nan\n",
      "Epoch: 0028, Cost: nan\n",
      "Epoch: 0029, Cost: nan\n",
      "Epoch: 0030, Cost: nan\n",
      "Learning finished\n",
      "Accuracy:  0.098\n",
      "Label:  [4]\n",
      "Prediction:  [0]\n"
     ]
    },
    {
     "data": {
      "image/png": "[encoded data removed]",
      "text/plain": [
       "<Figure size 432x288 with 1 Axes>"
      ]
     },
     "metadata": {
      "needs_background": "light"
     },
     "output_type": "display_data"
    }
   ],
   "source": [
    "# Mnist Practice\n",
    "import tensorflow as tf\n",
    "import matplotlib.pyplot as plt\n",
    "import random \n",
    "\n",
    "tf.set_random_seed(777)\n",
    "\n",
    "from tensorflow.examples.tutorials.mnist import input_data\n",
    "\n",
    "mnist = input_data .read_data_sets(\"MNIST_data/\",one_hot = True)\n",
    "\n",
    "nb_classes = 10\n",
    "\n",
    "X = tf.placeholder(tf.float32,[None,784])\n",
    "Y = tf.placeholder(tf.float32,[None,nb_classes])\n",
    "\n",
    "W = tf.Variable(tf.random_normal([784,nb_classes]))\n",
    "b = tf.Variable(tf.random_normal([nb_classes]))\n",
    "\n",
    "hypothesis = tf.nn.softmax(tf.matmul(X,W)+b)\n",
    "\n",
    "cost = tf.reduce_mean(-tf.reduce_sum(Y*tf.log(hypothesis),axis=1))\n",
    "train = tf.train.GradientDescentOptimizer(learning_rate = 0.1).minimize(cost)\n",
    "\n",
    "is_correct = tf.equal(tf.argmax(hypothesis,1),tf.argmax(Y,1))\n",
    "accuracy = tf.reduce_mean(tf.cast(is_correct,tf.float32))\n",
    "\n",
    "num_epochs = 15\n",
    "batch_size = 100\n",
    "num_iterations = int(mnist.train.num_examples/batch_size)\n",
    "\n",
    "with tf.Session() as sess:\n",
    "    sess.run(tf.global_variables_initializer())\n",
    "    for epoch in range(num_epochs):\n",
    "        avg_cost = 0\n",
    "        \n",
    "        for i in range(num_iterations):\n",
    "            batch_xs,batch_ys = mnist.train.next_batch(batch_size)\n",
    "            _, cost_val = sess.run([train,cost],feed_dict={X:batch_xs,Y:batch_ys})\n",
    "            avg_cost += cost_val/num_iterations\n",
    "        \n",
    "        print(\"Epoch: {:04d}, Cost: {:.9f}\".format(epoch + 1, avg_cost))\n",
    "        \n",
    "    print(\"Learning finished\")\n",
    "    \n",
    "    print(\n",
    "        \"Accuracy: \",\n",
    "        accuracy.eval(\n",
    "            session=sess, feed_dict={X: mnist.test.images, Y: mnist.test.labels}\n",
    "        ),\n",
    "    )\n",
    "    \n",
    "    r = random.randint(0, mnist.test.num_examples - 1)\n",
    "    print(\"Label: \", sess.run(tf.argmax(mnist.test.labels[r : r + 1], 1)))\n",
    "    print(\n",
    "        \"Prediction: \",\n",
    "        sess.run(tf.argmax(hypothesis, 1), feed_dict={X: mnist.test.images[r : r + 1]}),\n",
    "    )\n",
    "\n",
    "    plt.imshow(\n",
    "        mnist.test.images[r : r + 1].reshape(28, 28),\n",
    "        cmap=\"Greys\",\n",
    "        interpolation=\"nearest\",\n",
    "    )\n",
    "    plt.show()\n",
    "    "
   ]
  },
  {
   "cell_type": "code",
   "execution_count": null,
   "metadata": {},
   "outputs": [],
   "source": []
  },
  {
   "cell_type": "code",
   "execution_count": null,
   "metadata": {},
   "outputs": [],
   "source": []
  }
 ],
 "metadata": {
  "kernelspec": {
   "display_name": "Python 3",
   "language": "python",
   "name": "python3"
  },
  "language_info": {
   "codemirror_mode": {
    "name": "ipython",
    "version": 3
   },
   "file_extension": ".py",
   "mimetype": "text/x-python",
   "name": "python",
   "nbconvert_exporter": "python",
   "pygments_lexer": "ipython3",
   "version": "3.7.3"
  }
 },
 "nbformat": 4,
 "nbformat_minor": 2
}
